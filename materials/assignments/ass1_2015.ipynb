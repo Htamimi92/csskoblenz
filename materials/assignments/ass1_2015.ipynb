{
 "cells": [
  {
   "cell_type": "markdown",
   "metadata": {},
   "source": [
    "#Assignment 1\n",
    "\n",
    "Please, answer the question by entering runable python code into the cells. Add comments at the beginning of each cell which list the packages that need to be installed (e.g., pip install collections). Run the code so that the output is visible in the notbook before you submit. The 4 data files which you download should lie in the same directory as the python notebooks (use relative paths!).\n",
    "Only for the first 2 questions you have to provide unix commands. Please copy your commands together with the shell output into a text cell.\n",
    "\n",
    "Submit the notebook (as .ipynb and .pdf) via email to clwagner@uni-koblenz.de and philipp.singer@gesis.org until <font color=\"red\">1st June 2015 (midnight ECT)</font>.\n",
    "\n",
    "Subject of email: \"CSS2015 ass 1\"\n",
    "\n",
    "Filename: clwagner_mastrohmaier_ass1.ipynb and clwagner_mastrohmaier_ass1.pdf if Markus Strohmaier and Claudia Wagner worked together on assignment 1. \n",
    "\n",
    "\n",
    "##Analyzing Affiliation Networks and Social Networks (20 Points)\n",
    "1) Download the following dataset for data from the location-based social networking service: http://snap.stanford.edu/data/loc-brightkite.html\n",
    "\n",
    "The Brightkite dataset contains all checkins between April 2008 and October 2010 (4.5 Mio checkins).\n",
    "\n",
    "Beside the checkin data that constitute an affiliation network (two-mode network of users and locations), we will also analyze the friendship network (one mode network of users). Brighkite is an undirected network."
   ]
  },
  {
   "cell_type": "markdown",
   "metadata": {},
   "source": [
    "2) What are the 10 most popular locations---i.e., the locations with most checkins? Print location-ids and number of checkins using unix command line tools (e.g., awk). Enter you command and the output of the command below. <font color=\"red\">(1 Point)</font>\n"
   ]
  },
  {
   "cell_type": "code",
   "execution_count": null,
   "metadata": {
    "collapsed": false
   },
   "outputs": [],
   "source": []
  },
  {
   "cell_type": "markdown",
   "metadata": {},
   "source": [
    "3) Who are the 10 most active users---i.e., user with most checkins? Print the user ids and the number of checkin using unix command line tools (e.g., awk). Enter your command and the output below. <font color=\"red\">(1 Point)</font>\n"
   ]
  },
  {
   "cell_type": "code",
   "execution_count": null,
   "metadata": {
    "collapsed": false
   },
   "outputs": [],
   "source": []
  },
  {
   "cell_type": "markdown",
   "metadata": {},
   "source": [
    "4) Count the number of distinct brightkite users who checked-in at each location (using python!). What are the top 10 locations---i.e., the locations where most users checked in? Plot the rank ordered frequency distributions of locations (x-axis: locations ranked by the number of distinct users, y-axis: number of distinct users). <font color=\"red\">(2 Points)</font>\n"
   ]
  },
  {
   "cell_type": "code",
   "execution_count": null,
   "metadata": {
    "collapsed": false
   },
   "outputs": [],
   "source": []
  },
  {
   "cell_type": "markdown",
   "metadata": {},
   "source": [
    "5) Construct an unweighted two-mode network of brightkite users and locations. A user and a location are connected if the user checked-in at the location at least once. Compute the degree of each location in the two-mode network and list the top 10 location-ids with their corresponding degree.\n",
    "\n",
    "Fold the two-mode network and construct a location network. What are the most central locations in the one-mode network and what does that mean? \n",
    "Compute the degree centrality and print the ids and degrees of the 10 most central nodes.  \n",
    "<font color=\"red\">(4 Points)</font>"
   ]
  },
  {
   "cell_type": "code",
   "execution_count": null,
   "metadata": {
    "collapsed": false
   },
   "outputs": [],
   "source": []
  },
  {
   "cell_type": "markdown",
   "metadata": {},
   "source": [
    "In the affiliation network of users and location, a location has a high degree cenrality if many users checked in at this location. In the one-mode location network a location has a high degree centrality if the set of users who cehcked in at that location is very active and diverse. Two locations get connected in the location-network if at least one common user checked in in both. If the users who check in at a location A also check in at many different other locations (potentiall all other possible locations), then location A is very central in the location network. Location A is the location which is most similar to many other locations and we measure similarity by common users."
   ]
  },
  {
   "cell_type": "markdown",
   "metadata": {},
   "source": [
    "6) How evenly distributed is the attention of brightkite users towards locations? The attention a location receives is measured by the number of distinct users who checked in at this loction. Compute the normalized entropy of the degree distribution (using python!). The degree of a location corresponds to the number of distinct users who checked in there.\n",
    "\n",
    "To that end, you want to have one vector where each element corresponds to a distinct location. The values for each element are then determined by the number of distinct users that have checked-in at that location. Then, calculate normalized entropy for this vector.\n",
    "\n",
    "Assume we ignore all locations where 0-1 different people checked in. That means we make the long tail of the degree distribution shorter. How would the entropy change? <font color=\"red\">(3 Points)</font>"
   ]
  },
  {
   "cell_type": "code",
   "execution_count": null,
   "metadata": {
    "collapsed": false
   },
   "outputs": [],
   "source": []
  },
  {
   "cell_type": "markdown",
   "metadata": {},
   "source": [
    "7) In how many distinct locations did users check in on average in brightkite? \n",
    "Create a boxplot that shows the distribution of the number of distinct checkin-locations per user. What is the mean and the variance of this distribution? Compute X for the following statement: More than half of the users checked in in more than X locations?  <font color=\"red\">(2 Points)</font>"
   ]
  },
  {
   "cell_type": "code",
   "execution_count": null,
   "metadata": {
    "collapsed": false
   },
   "outputs": [],
   "source": []
  },
  {
   "cell_type": "markdown",
   "metadata": {},
   "source": [
    "8) Select the top location (i.e., the location where most distinct brightkite user checked in) and filter the brightkite social network so that it only contains users (nodes) which checked in at the top location.\n",
    "Load this subpart of the social networks into python (using the NetworkX library)\n",
    "Plot the sub-network. Use the spring layout\n",
    "with a suitable number of iterations such that the network is plotted in an appealing and clear way. <font color=\"red\">(3 Points)</font>\n",
    "\n"
   ]
  },
  {
   "cell_type": "code",
   "execution_count": null,
   "metadata": {
    "collapsed": false
   },
   "outputs": [],
   "source": []
  },
  {
   "cell_type": "markdown",
   "metadata": {},
   "source": [
    "9) What are the basic properties of this sub-network? Compute and print the number of nodes, number of egdes, average degree per node, clustering coefficient and density of the network. Compute all maximal cliques (cliques that cannot be enlarged). A clique in a graph is a maximal complete subgraph of three or more nodes. What's the total number of maximal cliques in the graph? What is the size of the largest maximal clique in the subnetwork? <font color=\"red\">(2 points)</font>"
   ]
  },
  {
   "cell_type": "code",
   "execution_count": null,
   "metadata": {
    "collapsed": false
   },
   "outputs": [],
   "source": []
  },
  {
   "cell_type": "markdown",
   "metadata": {},
   "source": [
    "10) Load the full Brightkite social network. What's the number of nodes, edges and average degree of a node?  What is the size of the largest maximal clique in the network?  <font color=\"red\">(2 Points)</font>"
   ]
  },
  {
   "cell_type": "code",
   "execution_count": null,
   "metadata": {
    "collapsed": false
   },
   "outputs": [],
   "source": []
  },
  {
   "cell_type": "markdown",
   "metadata": {},
   "source": [
    "#Analyze your Facebook data (6 Points)\n",
    "\n",
    "If you do not have a Facebook account, ask a friend or colleague and analyze his/her Facebook ego network.\n",
    "Login to your Facebook account (or ask you friend to login) and go to https://developers.facebook.com/tools/explorer/ to obtain and set permissions for an access token and retrieved the token.\n",
    "Install the facebook-sdk library (pip install facebook-sdk).\n",
    "\n",
    "Be sure to explore the permissions that are available by clicking on the \"Get Access Token\" button that is on the page and explore all of the tabs available. For example, you will need to set the \"friends_likes\" option under the \"Friends Data Permissions\" since this permission is used by the script below but is not a basic permission and is not enabled by default.\n",
    "\n",
    "1) What do your friends have in common? Compute the 10 most popular likes among your friends. List the top 10 likes and the corresponding number of friends who liked the thing. \n",
    "<font color=\"red\">(2 points)</font>\n"
   ]
  },
  {
   "cell_type": "code",
   "execution_count": null,
   "metadata": {
    "collapsed": false
   },
   "outputs": [],
   "source": []
  },
  {
   "cell_type": "markdown",
   "metadata": {},
   "source": [
    "2) Finding common likes between an ego and its friendships in a social network. How many likes do you have in common with your friends? \n",
    "<font color=\"red\">(2 points)</font>"
   ]
  },
  {
   "cell_type": "code",
   "execution_count": null,
   "metadata": {
    "collapsed": false
   },
   "outputs": [],
   "source": []
  },
  {
   "cell_type": "markdown",
   "metadata": {},
   "source": [
    "3) Find the friends that like the same things than you - list the 10 friends which are most similar to you according to your fb likes. <font color=\"red\">(2 points)</font>"
   ]
  },
  {
   "cell_type": "code",
   "execution_count": null,
   "metadata": {
    "collapsed": false
   },
   "outputs": [],
   "source": []
  }
 ],
 "metadata": {
  "css": [
   ""
  ],
  "kernelspec": {
   "display_name": "Python 2",
   "language": "python",
   "name": "python2"
  },
  "language_info": {
   "codemirror_mode": {
    "name": "ipython",
    "version": 2
   },
   "file_extension": ".py",
   "mimetype": "text/x-python",
   "name": "python",
   "nbconvert_exporter": "python",
   "pygments_lexer": "ipython2",
   "version": "2.7.8"
  }
 },
 "nbformat": 4,
 "nbformat_minor": 0
}
